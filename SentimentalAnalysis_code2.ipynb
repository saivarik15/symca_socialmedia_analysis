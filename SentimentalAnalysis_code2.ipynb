{
 "cells": [
  {
   "cell_type": "code",
   "execution_count": null,
   "metadata": {},
   "outputs": [],
   "source": [
    "from transformers import pipeline"
   ]
  },
  {
   "cell_type": "code",
   "execution_count": null,
   "metadata": {},
   "outputs": [],
   "source": [
    "import pandas as pd"
   ]
  },
  {
   "cell_type": "code",
   "execution_count": null,
   "metadata": {},
   "outputs": [],
   "source": [
    "import re"
   ]
  },
  {
   "cell_type": "code",
   "execution_count": null,
   "metadata": {},
   "outputs": [],
   "source": [
    "import csv"
   ]
  },
  {
   "cell_type": "code",
   "execution_count": null,
   "metadata": {},
   "outputs": [],
   "source": [
    "sentimental_pipeline = pipeline(\"sentiment-analysis\")"
   ]
  },
  {
   "cell_type": "code",
   "execution_count": null,
   "metadata": {},
   "outputs": [],
   "source": [
    "df_tweets =pd.read_csv('SYMCA2_tweetonly.csv')"
   ]
  },
  {
   "cell_type": "code",
   "execution_count": null,
   "metadata": {},
   "outputs": [],
   "source": [
    "data = df_tweets['Tweet'].tolist()"
   ]
  },
  {
   "cell_type": "code",
   "execution_count": null,
   "metadata": {},
   "outputs": [],
   "source": [
    "sentimental_pipeline(data)\n",
    "for item in data:\n",
    "    item_type = type(item)\n",
    "    print(f\"Data: {item}, Type: {item_type}\")"
   ]
  },
  {
   "cell_type": "code",
   "execution_count": null,
   "metadata": {},
   "outputs": [],
   "source": [
    "def clean_text(text):\n",
    "    # Remove URLs\n",
    "    text = re.sub(r'http\\S+', '', text)\n",
    "    # Remove special characters and non-alphanumeric characters\n",
    "    text = re.sub(r'[^\\w\\s]', '', text)\n",
    "    \n",
    "    # Convert to lowercase\n",
    "    text = text.lower()\n",
    "    \n",
    "    return text\n",
    "    # Clean the 'value' column using the clean_text function\n",
    "df_tweets['Tweet'] = df_tweets['Tweet'].apply(clean_text)\n",
    "\n",
    "print(df_tweets)\n",
    "\n",
    "data = df_tweets['Tweet'].tolist()\n",
    "#data = [\"I love you\", \"I hate you\"]\n",
    "sentimental_pipeline(data)\n",
    "\n",
    "    "
   ]
  },
  {
   "cell_type": "code",
   "execution_count": null,
   "metadata": {},
   "outputs": [],
   "source": [
    "import pandas as pd\n",
    "import re\n",
    "from textblob import TextBlob  # Assuming you're using TextBlob for sentiment analysis\n",
    "\n",
    "def clean_text(text):\n",
    "    # Remove URLs\n",
    "    text = re.sub(r'http\\S+', '', text)\n",
    "    # Remove special characters and non-alphanumeric characters\n",
    "    text = re.sub(r'[^\\w\\s]', '', text)\n",
    "    \n",
    "    # Convert to lowercase\n",
    "    text = text.lower()\n",
    "    \n",
    "    return text\n",
    "\n",
    "# Create a sample DataFrame\n",
    "data = {\n",
    "    'Tweet': [\n",
    "        \"I love this beautiful day! 😊\",\n",
    "        \"Feeling sad about recent events. 😢\",\n",
    "        \"Just hanging out with friends.\",\n",
    "        \"Check out this cool link: http://example.com\"\n",
    "    ]\n",
    "}\n",
    "df_tweets = pd.DataFrame(data)\n",
    "df_tweets = df_tweets[df_tweets['Handle'] != '@SouthYorksMCA']\n",
    "\n",
    "# Clean the 'Tweet' column using the clean_text function\n",
    "df_tweets['CleanedTweet'] = df_tweets['Tweet'].apply(clean_text)\n",
    "\n",
    "# Define a sentiment analysis function\n",
    "def analyze_sentiment(text):\n",
    "    blob = TextBlob(text)\n",
    "    sentiment = blob.sentiment.polarity\n",
    "    return sentiment\n",
    "\n",
    "# Apply sentiment analysis to the cleaned tweets\n",
    "df_tweets['Sentiment'] = df_tweets['CleanedTweet'].apply(analyze_sentiment)\n",
    "\n",
    "# Map sentiment polarity to sentiment labels\n",
    "df_tweets['SentimentLabel'] = df_tweets['Sentiment'].apply(lambda x: 'Positive' if x > 0 else 'Negative' if x < 0 else 'Neutral')\n",
    "\n",
    "# Create a new DataFrame with 'Tweet' and 'SentimentLabel'\n",
    "df_sentiment = df_tweets[['Tweet', 'SentimentLabel', 'Sentiment']]\n",
    "\n",
    "# Print the original DataFrame with sentiment analysis results\n",
    "print(df_tweets)\n",
    "\n",
    "# Print the DataFrame with tweets and their sentiment labels\n",
    "print(df_sentiment)\n",
    "\n",
    "df_sentiment.to_csv(\"output.csv\", encoding='utf-8',index=False)\n"
   ]
  },
  {
   "cell_type": "code",
   "execution_count": null,
   "metadata": {},
   "outputs": [],
   "source": [
    "pip install TextBlob"
   ]
  },
  {
   "cell_type": "code",
   "execution_count": null,
   "metadata": {},
   "outputs": [],
   "source": [
    "import pandas as pd\n",
    "import re\n",
    "from transformers import pipeline\n",
    "\n",
    "def clean_text(text):\n",
    "    # Remove URLs\n",
    "    text = re.sub(r'http\\S+', '', text)\n",
    "    # Remove special characters and non-alphanumeric characters\n",
    "    text = re.sub(r'[^\\w\\s]', '', text)\n",
    "    \n",
    "    # Convert to lowercase\n",
    "    text = text.lower()\n",
    "    \n",
    "    return text\n",
    "\n",
    "# Read the parquet file into a DataFrame\n",
    "\n",
    "file_path_SYMCA ='./Dataset/SYMCA1.parquet'\n",
    "\n",
    "df_tweets = pd.read_parquet(file_path_SYMCA)\n",
    "df_tweets = df_tweets[df_tweets['Handle'] != '@SouthYorksMCA']\n",
    "\n",
    "\n",
    "# Clean the 'Tweet' column using the clean_text function\n",
    "df_tweets['CleanedTweet'] = df_tweets['Tweet'].apply(clean_text)\n",
    "\n",
    "# Load the specific sentiment analysis model pipeline\n",
    "specific_model = pipeline(model=\"finiteautomata/bertweet-base-sentiment-analysis\")\n",
    "\n",
    "# Apply sentiment analysis to the cleaned tweets\n",
    "df_tweets['Sentiment'] = df_tweets['CleanedTweet'].apply(lambda text: specific_model(text)[0])\n",
    "\n",
    "# Create a new DataFrame with 'Tweet' and 'Sentiment'\n",
    "df_sentiment = df_tweets[['Tweet', 'Sentiment']]\n",
    "\n",
    "# Print the original DataFrame with sentiment analysis results\n",
    "print(df_tweets)\n",
    "\n",
    "# Print the DataFrame with original tweets and their sentiment scores\n",
    "print(df_sentiment)\n",
    "df_sentiment.to_csv(\"output.csv\", encoding='utf-8',index=False)"
   ]
  },
  {
   "cell_type": "code",
   "execution_count": null,
   "metadata": {},
   "outputs": [],
   "source": [
    "from wordcloud import WordCloud\n",
    "from wordcloud import STOPWORDS\n",
    "import matplotlib.pyplot as plt\n",
    "\n",
    "df_sentiment[\"Sentiment_Label\"] = df_sentiment[\"Sentiment\"].apply(lambda x: x[\"label\"])\n",
    "# Wordcloud with positive tweets\n",
    "positive_tweets = df_sentiment['Tweet'][df_sentiment[\"Sentiment_Label\"] == 'POS']\n",
    "stop_words = [\"https\", \"co\", \"RT\"] + list(STOPWORDS)\n",
    "positive_wordcloud = WordCloud(max_font_size=50, max_words=100, background_color=\"white\", stopwords = stop_words).generate(str(positive_tweets))\n",
    "plt.figure()\n",
    "plt.title(\"Positive Tweets - Wordcloud\")\n",
    "plt.imshow(positive_wordcloud, interpolation=\"bilinear\")\n",
    "plt.axis(\"off\")\n",
    "plt.show()\n",
    " \n",
    "# Wordcloud with negative tweets\n",
    "negative_tweets = df_sentiment['Tweet'][df_sentiment[\"Sentiment_Label\"] == 'NEG']\n",
    "stop_words = [\"https\", \"co\", \"RT\"] + list(STOPWORDS)\n",
    "negative_wordcloud = WordCloud(max_font_size=50, max_words=100, background_color=\"white\", stopwords = stop_words).generate(str(negative_tweets))\n",
    "plt.figure()\n",
    "plt.title(\"Negative Tweets - Wordcloud\")\n",
    "plt.imshow(negative_wordcloud, interpolation=\"bilinear\")\n",
    "plt.axis(\"off\")\n",
    "plt.show()\n"
   ]
  },
  {
   "cell_type": "code",
   "execution_count": null,
   "metadata": {},
   "outputs": [],
   "source": [
    "negative_tweets\n"
   ]
  },
  {
   "cell_type": "code",
   "execution_count": null,
   "metadata": {},
   "outputs": [],
   "source": [
    "positive_tweets"
   ]
  },
  {
   "cell_type": "code",
   "execution_count": null,
   "metadata": {},
   "outputs": [],
   "source": [
    "df_sentiment['Tweet']"
   ]
  },
  {
   "cell_type": "code",
   "execution_count": null,
   "metadata": {},
   "outputs": [],
   "source": [
    "df_sentiment[\"Sentiment_Label\"] = df_sentiment[\"Sentiment\"].apply(lambda x: x[\"label\"])\n"
   ]
  },
  {
   "cell_type": "code",
   "execution_count": null,
   "metadata": {},
   "outputs": [],
   "source": [
    "df_sentiment[\"Sentiment_Label\"]"
   ]
  },
  {
   "cell_type": "code",
   "execution_count": null,
   "metadata": {},
   "outputs": [],
   "source": [
    "df_tweets"
   ]
  },
  {
   "cell_type": "code",
   "execution_count": null,
   "metadata": {},
   "outputs": [],
   "source": [
    "import os\n",
    "import pandas as pd\n",
    "import re\n",
    "from transformers import pipeline\n",
    "from wordcloud import WordCloud, STOPWORDS\n",
    "import matplotlib.pyplot as plt\n",
    "\n",
    "def clean_text(text):\n",
    "    # Remove URLs\n",
    "    text = re.sub(r'http\\S+', '', text)\n",
    "    # Remove special characters and non-alphanumeric characters\n",
    "    text = re.sub(r'[^\\w\\s]', '', text)\n",
    "    \n",
    "    # Convert to lowercase\n",
    "    text = text.lower()\n",
    "    \n",
    "    return text\n",
    "\n",
    "def analyze_sentiments_and_generate_wordcloud(file_path, council_handle, output_folder):\n",
    "    # Read the parquet file into a DataFrame\n",
    "    df_tweets = pd.read_parquet(file_path)\n",
    "    df_tweets = df_tweets[df_tweets['Handle'] != council_handle]\n",
    "\n",
    "    # Clean the 'Tweet' column using the clean_text function\n",
    "    df_tweets['CleanedTweet'] = df_tweets['Tweet'].apply(clean_text)\n",
    "\n",
    "    # Load the specific sentiment analysis model pipeline\n",
    "    specific_model = pipeline(model=\"finiteautomata/bertweet-base-sentiment-analysis\")\n",
    "\n",
    "    # Apply sentiment analysis to the cleaned tweets\n",
    "    df_tweets['Sentiment'] = df_tweets['CleanedTweet'].apply(lambda text: specific_model(text)[0])\n",
    "\n",
    "    # Create a new DataFrame with 'Tweet' and 'Sentiment'\n",
    "    df_sentiment = df_tweets[['Tweet', 'Sentiment']]\n",
    "\n",
    "    # Save sentiment analysis results to CSV\n",
    "    output_csv = file_path.replace('.parquet', '_sentiment.csv')\n",
    "    df_sentiment.to_csv(output_csv, encoding='utf-8', index=False)\n",
    "\n",
    "    # Create wordclouds for positive, negative, and neutral tweets\n",
    "    df_sentiment[\"Sentiment_Label\"] = df_sentiment[\"Sentiment\"].apply(lambda x: x[\"label\"])\n",
    "    \n",
    "    # Wordcloud with positive tweets\n",
    "    positive_tweets = df_sentiment['Tweet'][df_sentiment[\"Sentiment_Label\"] == 'POS']\n",
    "    stop_words = [\"https\", \"co\", \"RT\"] + list(STOPWORDS)\n",
    "    positive_wordcloud = WordCloud(max_font_size=50, max_words=100, background_color=\"white\", stopwords=stop_words).generate(str(positive_tweets))\n",
    "    plt.figure()\n",
    "    plt.title(f\"Positive Tweets for {council_handle} - Wordcloud\")\n",
    "    plt.imshow(positive_wordcloud, interpolation=\"bilinear\")\n",
    "    plt.axis(\"off\")\n",
    "    plt.savefig(os.path.join(output_folder, f\"positive_{council_handle}_wordcloud.png\"))  # Save the plot\n",
    "    plt.close()\n",
    "\n",
    "    # Wordcloud with negative tweets\n",
    "    negative_tweets = df_sentiment['Tweet'][df_sentiment[\"Sentiment_Label\"] == 'NEG']\n",
    "    stop_words = [\"https\", \"co\", \"RT\"] + list(STOPWORDS)\n",
    "    negative_wordcloud = WordCloud(max_font_size=50, max_words=100, background_color=\"white\", stopwords=stop_words).generate(str(negative_tweets))\n",
    "    plt.figure()\n",
    "    plt.title(f\"Negative Tweets for {council_handle} - Wordcloud\")\n",
    "    plt.imshow(negative_wordcloud, interpolation=\"bilinear\")\n",
    "    plt.axis(\"off\")\n",
    "    plt.savefig(os.path.join(output_folder, f\"negative_{council_handle}_wordcloud.png\"))  # Save the plot\n",
    "    plt.close()\n",
    "\n",
    "    # Wordcloud with neutral tweets\n",
    "    neutral_tweets = df_sentiment['Tweet'][df_sentiment[\"Sentiment_Label\"] == 'NEU']\n",
    "    stop_words = [\"https\", \"co\", \"RT\"] + list(STOPWORDS)\n",
    "    neutral_wordcloud = WordCloud(max_font_size=50, max_words=100, background_color=\"white\", stopwords=stop_words).generate(str(neutral_tweets))\n",
    "    plt.figure()\n",
    "    plt.title(f\"Neutral Tweets for {council_handle} - Wordcloud\")\n",
    "    plt.imshow(neutral_wordcloud, interpolation=\"bilinear\")\n",
    "    plt.axis(\"off\")\n",
    "    plt.savefig(os.path.join(output_folder, f\"neutral_{council_handle}_wordcloud.png\"))  # Save the plot\n",
    "    plt.close()\n",
    "\n",
    "# File paths and council handles for all datasets\n",
    "data = [\n",
    "    ('./Dataset/SYMCA.parquet', '@SouthYorksMCA'),\n",
    "    ('./Dataset/EssexCountyCouncil.parquet', '@Essex_CC'),\n",
    "    ('./Dataset/HamisphereCountyCouncil.parquet', '@hantsconnect'),\n",
    "    ('./Dataset/SurreyCountyCouncil.parquet', '@SurreyCouncil')\n",
    "]\n",
    "\n",
    "# Output folder to save the plots\n",
    "output_folder = './WordCloudPlots'\n",
    "\n",
    "# Create the output folder if it doesn't exist\n",
    "os.makedirs(output_folder, exist_ok=True)\n",
    "\n",
    "# Loop through data and apply the analysis code\n",
    "for file_path, council_handle in data:\n",
    "    analyze_sentiments_and_generate_wordcloud(file_path, council_handle, output_folder)\n"
   ]
  },
  {
   "cell_type": "code",
   "execution_count": null,
   "metadata": {},
   "outputs": [],
   "source": []
  }
 ],
 "metadata": {
  "kernelspec": {
   "display_name": "Python 3",
   "language": "python",
   "name": "python3"
  },
  "language_info": {
   "codemirror_mode": {
    "name": "ipython",
    "version": 3
   },
   "file_extension": ".py",
   "mimetype": "text/x-python",
   "name": "python",
   "nbconvert_exporter": "python",
   "pygments_lexer": "ipython3",
   "version": "3.11.4"
  },
  "orig_nbformat": 4
 },
 "nbformat": 4,
 "nbformat_minor": 2
}
